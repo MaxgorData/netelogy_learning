{
 "cells": [
  {
   "cell_type": "code",
   "execution_count": 2,
   "id": "430a3b60",
   "metadata": {},
   "outputs": [],
   "source": [
    "import numpy as np"
   ]
  },
  {
   "cell_type": "code",
   "execution_count": 3,
   "id": "98480354",
   "metadata": {},
   "outputs": [
    {
     "data": {
      "text/plain": [
       "0"
      ]
     },
     "execution_count": 3,
     "metadata": {},
     "output_type": "execute_result"
    }
   ],
   "source": [
    "trails = 10000000\n",
    "successes = 0\n",
    "\n",
    "for i in range(trails):\n",
    "    x = np.random.uniform(1)\n",
    "    if x == 0.5:\n",
    "        successes += 1\n",
    "        \n",
    "successes"
   ]
  },
  {
   "cell_type": "markdown",
   "id": "cafa79a2",
   "metadata": {},
   "source": [
    "### Ахахаха, да, похоже на правду"
   ]
  },
  {
   "cell_type": "markdown",
   "id": "5f4a42db",
   "metadata": {},
   "source": [
    "## Смоделировать игру против лотерейного автомата типа “777”. Игрок платит 1 руб., после чего выпадает случайное целое число, равномерно распределенное от 0 до 999. При некоторых значениях числа игрок получает выигрыш.\n",
    "\n",
    "* 777: 200 руб.\n",
    "* 999: 100 руб.\n",
    "* 555: 50 руб.\n",
    "* 333: 15 руб.\n",
    "* 111: 10 руб.\n",
    "* *77: 5 руб.\n",
    "* **7: 3 руб.\n",
    "* *00: 2 руб.\n",
    "* **0: 1 руб.\n",
    "## Выгодна ли игра игроку?\n",
    "## Сколько в среднем приобретает или теряет игрок за одну игру?"
   ]
  },
  {
   "cell_type": "code",
   "execution_count": 33,
   "id": "ac151f30",
   "metadata": {},
   "outputs": [
    {
     "name": "stdout",
     "output_type": "stream",
     "text": [
      "-0.2048407\n"
     ]
    }
   ],
   "source": [
    "trails = 10000000\n",
    "total_earn = 0\n",
    "\n",
    "for i in range(trails):\n",
    "    earn = -1\n",
    "    score = np.random.randint(0, 1000)\n",
    "    if (score % 10) == 7:\n",
    "        earn += 3\n",
    "        if (score % 100) == 77:\n",
    "            earn += 2\n",
    "            if score == 777:\n",
    "                earn += 195\n",
    "    elif (score % 10) == 0:\n",
    "        earn += 1\n",
    "        if (score % 100) == 0:\n",
    "            earn += 1\n",
    "    elif score == 111:\n",
    "        earn += 10\n",
    "    elif score == 333:\n",
    "        earn += 15\n",
    "    elif score == 555:\n",
    "        earn += 50\n",
    "    elif score == 999:\n",
    "        earn += 100\n",
    "    total_earn += earn\n",
    "    \n",
    "print(total_earn/trails)"
   ]
  },
  {
   "cell_type": "code",
   "execution_count": 5,
   "id": "c3efa58b",
   "metadata": {},
   "outputs": [
    {
     "name": "stdout",
     "output_type": "stream",
     "text": [
      "-0.2031332\n"
     ]
    }
   ],
   "source": [
    "trails = 10000000\n",
    "total_earn = 0\n",
    "\n",
    "for i in range(trails):\n",
    "    earn = -1\n",
    "    score = np.random.randint(0, 1000)\n",
    "    if (score % 10) == 7:\n",
    "        earn += 3\n",
    "        if (score % 100) == 77:\n",
    "            earn += 2\n",
    "            if score == 777:\n",
    "                earn += 195\n",
    "    elif (score % 10) == 0:\n",
    "        earn += 1\n",
    "        if (score % 100) == 0:\n",
    "            earn += 1\n",
    "    elif score == 111:\n",
    "        earn += 10\n",
    "    elif score == 333:\n",
    "        earn += 15\n",
    "    elif score == 555:\n",
    "        earn += 50\n",
    "    elif score == 999:\n",
    "        earn += 100\n",
    "    total_earn += earn\n",
    "    \n",
    "print(total_earn/trails)"
   ]
  },
  {
   "cell_type": "markdown",
   "id": "f5024253",
   "metadata": {},
   "source": [
    "### Нет, игра не выгодна игроку, в среднем потеряет 2 копейки"
   ]
  },
  {
   "cell_type": "markdown",
   "id": "f0c90a68",
   "metadata": {},
   "source": [
    "## Теоретически рассчитать средний выигрыш (проигрыш) и сравнить с результатами моделирования"
   ]
  },
  {
   "cell_type": "markdown",
   "id": "44435ab6",
   "metadata": {},
   "source": [
    "Событие $A$ - любой выйгрыш, тогда:\n",
    "* $H_{1}$ - выпадение числа  111\n",
    "* $H_{2}$ - выпадение числа  333\n",
    "* $H_{3}$ - выпадение числа  555\n",
    "* $H_{4}$ - выпадение числа  999\n",
    "* $H_{5}$ - выпадение числа  **7\n",
    "* $H_{6}$ - выпадение числа  *77 \n",
    "* $H_{7}$ - выпадение числа  777\n",
    "* $H_{8}$ - выпадение числа  **0\n",
    "* $H_{9}$ - выпадение числа  *00\n",
    "* $H_{10}$ - выпадение всех остальных чисел\n",
    "\n",
    "* $P(H_{1})$ = $P(H_{2})$ = $P(H_{3}$ = $P(H_{4})$ = 0.001 Так как вероятность выпадения одного числа из тысячи\n",
    "* $P(H_{5})$ = 0.1 10 * 10 = 100 сто чисел в которые входят *77 и 777 поэтому вероятность вхождения этих чисел учитывать неправильно\n",
    "* $P(H_{8})$ = 0.1 10 * 10 = 100 так же сто так как число 1000 не входит в диапозон (с *00 то же самое что и с *77 и 777) \n",
    "\n",
    "### Вероятность выйграша в итоге равна 0.204 но выйграш будет зависеть от результата выграша, поэтому:"
   ]
  },
  {
   "cell_type": "markdown",
   "id": "012ff612",
   "metadata": {},
   "source": [
    " * $A$ + $\\bar{A}$ = $P(H_{1})*A_{1}+P(H_{2})*A_{2}+P(H_{3})*A_{3}+P(H_{4})*A_{4}+\n",
    " P(H_{5})*A_{5}+P(H_{6})*A_{6}+P(H_{7})*A_{7}+P(H_{8})*A_{8}+P(H_{9})*A_{9}+P(H_{10})*A_{10}$\n",
    " \n",
    " * Но так как *77 включается в диапозон **7 уменьшаем выйгрыш чисел *77 на значение выгрыша **7 т.е. A(*77) = 2 руб. так как A(**7) = 3 руб. Имеем:"
   ]
  },
  {
   "cell_type": "markdown",
   "id": "cd086a90",
   "metadata": {},
   "source": [
    "* $A(777)$: 195 руб.\n",
    "* $A(999)$: 100 руб.\n",
    "* $A(555)$: 50 руб.\n",
    "* $A(333)$: 15 руб.\n",
    "* $A(111)$: 10 руб.\n",
    "* $A(*77)$: 2 руб.\n",
    "* $A(**7)$: 3 руб.\n",
    "* $A(*00)$: 1 руб.\n",
    "* $A(**0)$: 1 руб."
   ]
  },
  {
   "cell_type": "code",
   "execution_count": 34,
   "id": "340b31b6",
   "metadata": {},
   "outputs": [
    {
     "data": {
      "text/plain": [
       "0.004000000000000115"
      ]
     },
     "execution_count": 34,
     "metadata": {},
     "output_type": "execute_result"
    }
   ],
   "source": [
    "theoretically_earning = 0.001*10 + 0.001*15 + 0.001*50 + 0.001*100 + 0.1*3 + 0.01*2 + 0.001*195 + 0.1*1 + 0.01*1 + (1-(0.004+0.1+0.1))*(-1)\n",
    "theoretically_earning"
   ]
  },
  {
   "cell_type": "markdown",
   "id": "22257dfc",
   "metadata": {},
   "source": [
    "## Похоже я чего то не догнал "
   ]
  },
  {
   "cell_type": "code",
   "execution_count": 38,
   "id": "de29e6d8",
   "metadata": {},
   "outputs": [
    {
     "data": {
      "text/plain": [
       "{0: 1,\n",
       " 7: 3,\n",
       " 10: 1,\n",
       " 17: 3,\n",
       " 20: 1,\n",
       " 27: 3,\n",
       " 30: 1,\n",
       " 37: 3,\n",
       " 40: 1,\n",
       " 47: 3,\n",
       " 50: 1,\n",
       " 57: 3,\n",
       " 60: 1,\n",
       " 67: 3,\n",
       " 70: 1,\n",
       " 77: 5,\n",
       " 80: 1,\n",
       " 87: 3,\n",
       " 90: 1,\n",
       " 97: 3,\n",
       " 100: 1,\n",
       " 107: 3,\n",
       " 110: 1,\n",
       " 111: 10,\n",
       " 117: 3,\n",
       " 120: 1,\n",
       " 127: 3,\n",
       " 130: 1,\n",
       " 137: 3,\n",
       " 140: 1,\n",
       " 147: 3,\n",
       " 150: 1,\n",
       " 157: 3,\n",
       " 160: 1,\n",
       " 167: 3,\n",
       " 170: 1,\n",
       " 177: 5,\n",
       " 180: 1,\n",
       " 187: 3,\n",
       " 190: 1,\n",
       " 197: 3,\n",
       " 200: 1,\n",
       " 207: 3,\n",
       " 210: 1,\n",
       " 217: 3,\n",
       " 220: 1,\n",
       " 227: 3,\n",
       " 230: 1,\n",
       " 237: 3,\n",
       " 240: 1,\n",
       " 247: 3,\n",
       " 250: 1,\n",
       " 257: 3,\n",
       " 260: 1,\n",
       " 267: 3,\n",
       " 270: 1,\n",
       " 277: 5,\n",
       " 280: 1,\n",
       " 287: 3,\n",
       " 290: 1,\n",
       " 297: 3,\n",
       " 300: 1,\n",
       " 307: 3,\n",
       " 310: 1,\n",
       " 317: 3,\n",
       " 320: 1,\n",
       " 327: 3,\n",
       " 330: 1,\n",
       " 333: 15,\n",
       " 337: 3,\n",
       " 340: 1,\n",
       " 347: 3,\n",
       " 350: 1,\n",
       " 357: 3,\n",
       " 360: 1,\n",
       " 367: 3,\n",
       " 370: 1,\n",
       " 377: 5,\n",
       " 380: 1,\n",
       " 387: 3,\n",
       " 390: 1,\n",
       " 397: 3,\n",
       " 400: 1,\n",
       " 407: 3,\n",
       " 410: 1,\n",
       " 417: 3,\n",
       " 420: 1,\n",
       " 427: 3,\n",
       " 430: 1,\n",
       " 437: 3,\n",
       " 440: 1,\n",
       " 447: 3,\n",
       " 450: 1,\n",
       " 457: 3,\n",
       " 460: 1,\n",
       " 467: 3,\n",
       " 470: 1,\n",
       " 477: 5,\n",
       " 480: 1,\n",
       " 487: 3,\n",
       " 490: 1,\n",
       " 497: 3,\n",
       " 500: 1,\n",
       " 507: 3,\n",
       " 510: 1,\n",
       " 517: 3,\n",
       " 520: 1,\n",
       " 527: 3,\n",
       " 530: 1,\n",
       " 537: 3,\n",
       " 540: 1,\n",
       " 547: 3,\n",
       " 550: 1,\n",
       " 555: 50,\n",
       " 557: 3,\n",
       " 560: 1,\n",
       " 567: 3,\n",
       " 570: 1,\n",
       " 577: 5,\n",
       " 580: 1,\n",
       " 587: 3,\n",
       " 590: 1,\n",
       " 597: 3,\n",
       " 600: 1,\n",
       " 607: 3,\n",
       " 610: 1,\n",
       " 617: 3,\n",
       " 620: 1,\n",
       " 627: 3,\n",
       " 630: 1,\n",
       " 637: 3,\n",
       " 640: 1,\n",
       " 647: 3,\n",
       " 650: 1,\n",
       " 657: 3,\n",
       " 660: 1,\n",
       " 667: 3,\n",
       " 670: 1,\n",
       " 677: 5,\n",
       " 680: 1,\n",
       " 687: 3,\n",
       " 690: 1,\n",
       " 697: 3,\n",
       " 700: 1,\n",
       " 707: 3,\n",
       " 710: 1,\n",
       " 717: 3,\n",
       " 720: 1,\n",
       " 727: 3,\n",
       " 730: 1,\n",
       " 737: 3,\n",
       " 740: 1,\n",
       " 747: 3,\n",
       " 750: 1,\n",
       " 757: 3,\n",
       " 760: 1,\n",
       " 767: 3,\n",
       " 770: 1,\n",
       " 777: 200,\n",
       " 780: 1,\n",
       " 787: 3,\n",
       " 790: 1,\n",
       " 797: 3,\n",
       " 800: 1,\n",
       " 807: 3,\n",
       " 810: 1,\n",
       " 817: 3,\n",
       " 820: 1,\n",
       " 827: 3,\n",
       " 830: 1,\n",
       " 837: 3,\n",
       " 840: 1,\n",
       " 847: 3,\n",
       " 850: 1,\n",
       " 857: 3,\n",
       " 860: 1,\n",
       " 867: 3,\n",
       " 870: 1,\n",
       " 877: 5,\n",
       " 880: 1,\n",
       " 887: 3,\n",
       " 890: 1,\n",
       " 897: 3,\n",
       " 900: 1,\n",
       " 907: 3,\n",
       " 910: 1,\n",
       " 917: 3,\n",
       " 920: 1,\n",
       " 927: 3,\n",
       " 930: 1,\n",
       " 937: 3,\n",
       " 940: 1,\n",
       " 947: 3,\n",
       " 950: 1,\n",
       " 957: 3,\n",
       " 960: 1,\n",
       " 967: 3,\n",
       " 970: 1,\n",
       " 977: 5,\n",
       " 980: 1,\n",
       " 987: 3,\n",
       " 990: 1,\n",
       " 997: 3,\n",
       " 999: 100}"
      ]
     },
     "execution_count": 38,
     "metadata": {},
     "output_type": "execute_result"
    }
   ],
   "source": [
    "dict_var = {}\n",
    "\n",
    "for number in range(0, 1000):\n",
    "    if (number % 10) == 0:\n",
    "        dict_var[number] = 1\n",
    "    if (number % 100) == 0:\n",
    "        dict_var[number] = 1\n",
    "    if (number % 10) == 7:\n",
    "        dict_var[number] = 3\n",
    "    if (number % 100) == 77:\n",
    "        dict_var[number] = 5\n",
    "    if number == 111:\n",
    "        dict_var[number] = 10\n",
    "    if number == 333:\n",
    "        dict_var[number] = 15 \n",
    "    if number == 555:\n",
    "        dict_var[number] = 50\n",
    "    if number == 777:\n",
    "        dict_var[number] = 200\n",
    "    if number == 999:\n",
    "        dict_var[number] = 100\n",
    "     \n",
    "dict_var"
   ]
  },
  {
   "cell_type": "code",
   "execution_count": 41,
   "id": "4b72eab0",
   "metadata": {},
   "outputs": [
    {
     "name": "stdout",
     "output_type": "stream",
     "text": [
      "-0.2068964\n"
     ]
    }
   ],
   "source": [
    "trails = 10000000\n",
    "total_earn = 0\n",
    "\n",
    "for i in range(trails):\n",
    "    earn = -1\n",
    "    score = np.random.randint(0, 1000) \n",
    "    if score in dict_var.keys():\n",
    "        earn += dict_var[score]\n",
    "    total_earn += earn\n",
    "    \n",
    "print(total_earn/trails)"
   ]
  },
  {
   "cell_type": "code",
   "execution_count": 42,
   "id": "ed4fe903",
   "metadata": {},
   "outputs": [
    {
     "name": "stdout",
     "output_type": "stream",
     "text": [
      "-0.2121185\n"
     ]
    }
   ],
   "source": [
    "trails = 10000000\n",
    "total_earn = 0\n",
    "\n",
    "for i in range(trails):\n",
    "    earn = -1\n",
    "    score = np.random.randint(0, 1000) \n",
    "    if score in dict_var.keys():\n",
    "        earn += dict_var[score]\n",
    "    total_earn += earn\n",
    "    \n",
    "print(total_earn/trails)"
   ]
  },
  {
   "cell_type": "code",
   "execution_count": null,
   "id": "b2de7bfb",
   "metadata": {},
   "outputs": [],
   "source": []
  }
 ],
 "metadata": {
  "kernelspec": {
   "display_name": "Python 3 (ipykernel)",
   "language": "python",
   "name": "python3"
  },
  "language_info": {
   "codemirror_mode": {
    "name": "ipython",
    "version": 3
   },
   "file_extension": ".py",
   "mimetype": "text/x-python",
   "name": "python",
   "nbconvert_exporter": "python",
   "pygments_lexer": "ipython3",
   "version": "3.8.10"
  }
 },
 "nbformat": 4,
 "nbformat_minor": 5
}
