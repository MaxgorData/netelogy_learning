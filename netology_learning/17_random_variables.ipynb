{
 "cells": [
  {
   "cell_type": "code",
   "execution_count": 2,
   "id": "430a3b60",
   "metadata": {},
   "outputs": [],
   "source": [
    "import numpy as np"
   ]
  },
  {
   "cell_type": "code",
   "execution_count": 4,
   "id": "98480354",
   "metadata": {},
   "outputs": [
    {
     "data": {
      "text/plain": [
       "0"
      ]
     },
     "execution_count": 4,
     "metadata": {},
     "output_type": "execute_result"
    }
   ],
   "source": [
    "trails = 10000000\n",
    "successes = 0\n",
    "\n",
    "for i in range(trails):\n",
    "    x = np.random.uniform(1)\n",
    "    if x == 0.5:\n",
    "        successes += 1\n",
    "        \n",
    "successes"
   ]
  },
  {
   "cell_type": "markdown",
   "id": "cafa79a2",
   "metadata": {},
   "source": [
    "### Ахахаха, да, похоже на правду"
   ]
  },
  {
   "cell_type": "markdown",
   "id": "5f4a42db",
   "metadata": {},
   "source": [
    "## Смоделировать игру против лотерейного автомата типа “777”. Игрок платит 1 руб., после чего выпадает случайное целое число, равномерно распределенное от 0 до 999. При некоторых значениях числа игрок получает выигрыш.\n",
    "\n",
    "* 777: 200 руб.\n",
    "* 999: 100 руб.\n",
    "* 555: 50 руб.\n",
    "* 333: 15 руб.\n",
    "* 111: 10 руб.\n",
    "* *77: 5 руб.\n",
    "* **7: 3 руб.\n",
    "* *00: 2 руб.\n",
    "* **0: 1 руб.\n",
    "## Выгодна ли игра игроку?\n",
    "## Сколько в среднем приобретает или теряет игрок за одну игру?"
   ]
  },
  {
   "cell_type": "code",
   "execution_count": 35,
   "id": "ac151f30",
   "metadata": {},
   "outputs": [
    {
     "data": {
      "text/plain": [
       "-2002430"
      ]
     },
     "execution_count": 35,
     "metadata": {},
     "output_type": "execute_result"
    }
   ],
   "source": [
    "trails = 10000000\n",
    "total_earn = 0\n",
    "\n",
    "for i in range(trails):\n",
    "    earn = -1\n",
    "    score = np.random.randint(0, 1000)\n",
    "    if (score % 10) == 7:\n",
    "        earn += 3\n",
    "        if (score % 100) == 77:\n",
    "            earn += 2\n",
    "            if score == 777:\n",
    "                earn += 195\n",
    "    elif (score % 10) == 0:\n",
    "        earn += 1\n",
    "        if (score % 100) == 0:\n",
    "            earn += 1\n",
    "    elif score == 111:\n",
    "        earn += 10\n",
    "    elif score == 333:\n",
    "        earn += 15\n",
    "    elif score == 555:\n",
    "        earn += 50\n",
    "    elif score == 999:\n",
    "        earn += 100\n",
    "    total_earn += earn\n",
    "    \n",
    "total_earn"
   ]
  },
  {
   "cell_type": "code",
   "execution_count": 36,
   "id": "c3efa58b",
   "metadata": {},
   "outputs": [
    {
     "data": {
      "text/plain": [
       "-1979028"
      ]
     },
     "execution_count": 36,
     "metadata": {},
     "output_type": "execute_result"
    }
   ],
   "source": [
    "trails = 10000000\n",
    "total_earn = 0\n",
    "\n",
    "for i in range(trails):\n",
    "    earn = -1\n",
    "    score = np.random.randint(0, 1000)\n",
    "    if (score % 10) == 7:\n",
    "        earn += 3\n",
    "        if (score % 100) == 77:\n",
    "            earn += 2\n",
    "            if score == 777:\n",
    "                earn += 195\n",
    "    elif (score % 10) == 0:\n",
    "        earn += 1\n",
    "        if (score % 100) == 0:\n",
    "            earn += 1\n",
    "    elif score == 111:\n",
    "        earn += 10\n",
    "    elif score == 333:\n",
    "        earn += 15\n",
    "    elif score == 555:\n",
    "        earn += 50\n",
    "    elif score == 999:\n",
    "        earn += 100\n",
    "    total_earn += earn\n",
    "    \n",
    "total_earn"
   ]
  },
  {
   "cell_type": "markdown",
   "id": "f5024253",
   "metadata": {},
   "source": [
    "### Нет, игра не выгодна игроку, в среднем потеряет 2 миллиона"
   ]
  }
 ],
 "metadata": {
  "kernelspec": {
   "display_name": "Python 3 (ipykernel)",
   "language": "python",
   "name": "python3"
  },
  "language_info": {
   "codemirror_mode": {
    "name": "ipython",
    "version": 3
   },
   "file_extension": ".py",
   "mimetype": "text/x-python",
   "name": "python",
   "nbconvert_exporter": "python",
   "pygments_lexer": "ipython3",
   "version": "3.8.10"
  }
 },
 "nbformat": 4,
 "nbformat_minor": 5
}
