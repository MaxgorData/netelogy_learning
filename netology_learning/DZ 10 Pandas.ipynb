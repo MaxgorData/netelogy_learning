{
 "cells": [
  {
   "cell_type": "markdown",
   "id": "ccb708cc",
   "metadata": {},
   "source": [
    "## Задание 1\n",
    "\n",
    "* Определите, какому фильму было выставлено больше всего оценок 5.0."
   ]
  },
  {
   "cell_type": "code",
   "execution_count": 2,
   "id": "326201ac",
   "metadata": {},
   "outputs": [],
   "source": [
    "import pandas as pd"
   ]
  },
  {
   "cell_type": "code",
   "execution_count": 3,
   "id": "08101b72",
   "metadata": {},
   "outputs": [],
   "source": [
    "ratings = pd.read_csv('ratings.csv')"
   ]
  },
  {
   "cell_type": "code",
   "execution_count": 4,
   "id": "162cc463",
   "metadata": {},
   "outputs": [
    {
     "data": {
      "text/html": [
       "<div>\n",
       "<style scoped>\n",
       "    .dataframe tbody tr th:only-of-type {\n",
       "        vertical-align: middle;\n",
       "    }\n",
       "\n",
       "    .dataframe tbody tr th {\n",
       "        vertical-align: top;\n",
       "    }\n",
       "\n",
       "    .dataframe thead th {\n",
       "        text-align: right;\n",
       "    }\n",
       "</style>\n",
       "<table border=\"1\" class=\"dataframe\">\n",
       "  <thead>\n",
       "    <tr style=\"text-align: right;\">\n",
       "      <th></th>\n",
       "      <th>userId</th>\n",
       "      <th>movieId</th>\n",
       "      <th>rating</th>\n",
       "      <th>timestamp</th>\n",
       "    </tr>\n",
       "  </thead>\n",
       "  <tbody>\n",
       "    <tr>\n",
       "      <th>0</th>\n",
       "      <td>1</td>\n",
       "      <td>296</td>\n",
       "      <td>5.0</td>\n",
       "      <td>1147880044</td>\n",
       "    </tr>\n",
       "    <tr>\n",
       "      <th>1</th>\n",
       "      <td>1</td>\n",
       "      <td>306</td>\n",
       "      <td>3.5</td>\n",
       "      <td>1147868817</td>\n",
       "    </tr>\n",
       "    <tr>\n",
       "      <th>2</th>\n",
       "      <td>1</td>\n",
       "      <td>307</td>\n",
       "      <td>5.0</td>\n",
       "      <td>1147868828</td>\n",
       "    </tr>\n",
       "    <tr>\n",
       "      <th>3</th>\n",
       "      <td>1</td>\n",
       "      <td>665</td>\n",
       "      <td>5.0</td>\n",
       "      <td>1147878820</td>\n",
       "    </tr>\n",
       "    <tr>\n",
       "      <th>4</th>\n",
       "      <td>1</td>\n",
       "      <td>899</td>\n",
       "      <td>3.5</td>\n",
       "      <td>1147868510</td>\n",
       "    </tr>\n",
       "  </tbody>\n",
       "</table>\n",
       "</div>"
      ],
      "text/plain": [
       "   userId  movieId  rating   timestamp\n",
       "0       1      296     5.0  1147880044\n",
       "1       1      306     3.5  1147868817\n",
       "2       1      307     5.0  1147868828\n",
       "3       1      665     5.0  1147878820\n",
       "4       1      899     3.5  1147868510"
      ]
     },
     "execution_count": 4,
     "metadata": {},
     "output_type": "execute_result"
    }
   ],
   "source": [
    "ratings.head()"
   ]
  },
  {
   "cell_type": "code",
   "execution_count": 5,
   "id": "15d6a1f7",
   "metadata": {},
   "outputs": [
    {
     "data": {
      "text/plain": [
       "59047"
      ]
     },
     "execution_count": 5,
     "metadata": {},
     "output_type": "execute_result"
    }
   ],
   "source": [
    "ratings['movieId'].nunique()"
   ]
  },
  {
   "cell_type": "code",
   "execution_count": 7,
   "id": "be3c67e1",
   "metadata": {},
   "outputs": [],
   "source": [
    "movies = pd.read_csv('movies.csv')"
   ]
  },
  {
   "cell_type": "code",
   "execution_count": 8,
   "id": "bf858163",
   "metadata": {},
   "outputs": [
    {
     "data": {
      "text/html": [
       "<div>\n",
       "<style scoped>\n",
       "    .dataframe tbody tr th:only-of-type {\n",
       "        vertical-align: middle;\n",
       "    }\n",
       "\n",
       "    .dataframe tbody tr th {\n",
       "        vertical-align: top;\n",
       "    }\n",
       "\n",
       "    .dataframe thead th {\n",
       "        text-align: right;\n",
       "    }\n",
       "</style>\n",
       "<table border=\"1\" class=\"dataframe\">\n",
       "  <thead>\n",
       "    <tr style=\"text-align: right;\">\n",
       "      <th></th>\n",
       "      <th>movieId</th>\n",
       "      <th>title</th>\n",
       "      <th>genres</th>\n",
       "    </tr>\n",
       "  </thead>\n",
       "  <tbody>\n",
       "    <tr>\n",
       "      <th>0</th>\n",
       "      <td>1</td>\n",
       "      <td>Toy Story (1995)</td>\n",
       "      <td>Adventure|Animation|Children|Comedy|Fantasy</td>\n",
       "    </tr>\n",
       "    <tr>\n",
       "      <th>1</th>\n",
       "      <td>2</td>\n",
       "      <td>Jumanji (1995)</td>\n",
       "      <td>Adventure|Children|Fantasy</td>\n",
       "    </tr>\n",
       "    <tr>\n",
       "      <th>2</th>\n",
       "      <td>3</td>\n",
       "      <td>Grumpier Old Men (1995)</td>\n",
       "      <td>Comedy|Romance</td>\n",
       "    </tr>\n",
       "    <tr>\n",
       "      <th>3</th>\n",
       "      <td>4</td>\n",
       "      <td>Waiting to Exhale (1995)</td>\n",
       "      <td>Comedy|Drama|Romance</td>\n",
       "    </tr>\n",
       "    <tr>\n",
       "      <th>4</th>\n",
       "      <td>5</td>\n",
       "      <td>Father of the Bride Part II (1995)</td>\n",
       "      <td>Comedy</td>\n",
       "    </tr>\n",
       "  </tbody>\n",
       "</table>\n",
       "</div>"
      ],
      "text/plain": [
       "   movieId                               title  \\\n",
       "0        1                    Toy Story (1995)   \n",
       "1        2                      Jumanji (1995)   \n",
       "2        3             Grumpier Old Men (1995)   \n",
       "3        4            Waiting to Exhale (1995)   \n",
       "4        5  Father of the Bride Part II (1995)   \n",
       "\n",
       "                                        genres  \n",
       "0  Adventure|Animation|Children|Comedy|Fantasy  \n",
       "1                   Adventure|Children|Fantasy  \n",
       "2                               Comedy|Romance  \n",
       "3                         Comedy|Drama|Romance  \n",
       "4                                       Comedy  "
      ]
     },
     "execution_count": 8,
     "metadata": {},
     "output_type": "execute_result"
    }
   ],
   "source": [
    "movies.head()"
   ]
  },
  {
   "cell_type": "code",
   "execution_count": 9,
   "id": "2e456f51",
   "metadata": {},
   "outputs": [
    {
     "data": {
      "text/plain": [
       "62423"
      ]
     },
     "execution_count": 9,
     "metadata": {},
     "output_type": "execute_result"
    }
   ],
   "source": [
    "movies['movieId'].nunique()"
   ]
  },
  {
   "cell_type": "code",
   "execution_count": 10,
   "id": "a086ed2a",
   "metadata": {},
   "outputs": [],
   "source": [
    "joined_movies = ratings.merge(movies, on='movieId', how='left')"
   ]
  },
  {
   "cell_type": "code",
   "execution_count": 11,
   "id": "d1b7351f",
   "metadata": {},
   "outputs": [
    {
     "data": {
      "text/html": [
       "<div>\n",
       "<style scoped>\n",
       "    .dataframe tbody tr th:only-of-type {\n",
       "        vertical-align: middle;\n",
       "    }\n",
       "\n",
       "    .dataframe tbody tr th {\n",
       "        vertical-align: top;\n",
       "    }\n",
       "\n",
       "    .dataframe thead th {\n",
       "        text-align: right;\n",
       "    }\n",
       "</style>\n",
       "<table border=\"1\" class=\"dataframe\">\n",
       "  <thead>\n",
       "    <tr style=\"text-align: right;\">\n",
       "      <th></th>\n",
       "      <th>userId</th>\n",
       "      <th>movieId</th>\n",
       "      <th>rating</th>\n",
       "      <th>timestamp</th>\n",
       "      <th>title</th>\n",
       "      <th>genres</th>\n",
       "    </tr>\n",
       "  </thead>\n",
       "  <tbody>\n",
       "    <tr>\n",
       "      <th>0</th>\n",
       "      <td>1</td>\n",
       "      <td>296</td>\n",
       "      <td>5.0</td>\n",
       "      <td>1147880044</td>\n",
       "      <td>Pulp Fiction (1994)</td>\n",
       "      <td>Comedy|Crime|Drama|Thriller</td>\n",
       "    </tr>\n",
       "    <tr>\n",
       "      <th>1</th>\n",
       "      <td>1</td>\n",
       "      <td>306</td>\n",
       "      <td>3.5</td>\n",
       "      <td>1147868817</td>\n",
       "      <td>Three Colors: Red (Trois couleurs: Rouge) (1994)</td>\n",
       "      <td>Drama</td>\n",
       "    </tr>\n",
       "    <tr>\n",
       "      <th>2</th>\n",
       "      <td>1</td>\n",
       "      <td>307</td>\n",
       "      <td>5.0</td>\n",
       "      <td>1147868828</td>\n",
       "      <td>Three Colors: Blue (Trois couleurs: Bleu) (1993)</td>\n",
       "      <td>Drama</td>\n",
       "    </tr>\n",
       "    <tr>\n",
       "      <th>3</th>\n",
       "      <td>1</td>\n",
       "      <td>665</td>\n",
       "      <td>5.0</td>\n",
       "      <td>1147878820</td>\n",
       "      <td>Underground (1995)</td>\n",
       "      <td>Comedy|Drama|War</td>\n",
       "    </tr>\n",
       "    <tr>\n",
       "      <th>4</th>\n",
       "      <td>1</td>\n",
       "      <td>899</td>\n",
       "      <td>3.5</td>\n",
       "      <td>1147868510</td>\n",
       "      <td>Singin' in the Rain (1952)</td>\n",
       "      <td>Comedy|Musical|Romance</td>\n",
       "    </tr>\n",
       "  </tbody>\n",
       "</table>\n",
       "</div>"
      ],
      "text/plain": [
       "   userId  movieId  rating   timestamp  \\\n",
       "0       1      296     5.0  1147880044   \n",
       "1       1      306     3.5  1147868817   \n",
       "2       1      307     5.0  1147868828   \n",
       "3       1      665     5.0  1147878820   \n",
       "4       1      899     3.5  1147868510   \n",
       "\n",
       "                                              title  \\\n",
       "0                               Pulp Fiction (1994)   \n",
       "1  Three Colors: Red (Trois couleurs: Rouge) (1994)   \n",
       "2  Three Colors: Blue (Trois couleurs: Bleu) (1993)   \n",
       "3                                Underground (1995)   \n",
       "4                        Singin' in the Rain (1952)   \n",
       "\n",
       "                        genres  \n",
       "0  Comedy|Crime|Drama|Thriller  \n",
       "1                        Drama  \n",
       "2                        Drama  \n",
       "3             Comedy|Drama|War  \n",
       "4       Comedy|Musical|Romance  "
      ]
     },
     "execution_count": 11,
     "metadata": {},
     "output_type": "execute_result"
    }
   ],
   "source": [
    "joined_movies.head()"
   ]
  },
  {
   "cell_type": "code",
   "execution_count": 12,
   "id": "6db76ca2",
   "metadata": {},
   "outputs": [],
   "source": [
    "filtred_ratings = joined_movies[['rating', 'title']]"
   ]
  },
  {
   "cell_type": "code",
   "execution_count": 13,
   "id": "ee9c6a21",
   "metadata": {},
   "outputs": [
    {
     "data": {
      "text/html": [
       "<div>\n",
       "<style scoped>\n",
       "    .dataframe tbody tr th:only-of-type {\n",
       "        vertical-align: middle;\n",
       "    }\n",
       "\n",
       "    .dataframe tbody tr th {\n",
       "        vertical-align: top;\n",
       "    }\n",
       "\n",
       "    .dataframe thead th {\n",
       "        text-align: right;\n",
       "    }\n",
       "</style>\n",
       "<table border=\"1\" class=\"dataframe\">\n",
       "  <thead>\n",
       "    <tr style=\"text-align: right;\">\n",
       "      <th></th>\n",
       "      <th>rating</th>\n",
       "      <th>title</th>\n",
       "    </tr>\n",
       "  </thead>\n",
       "  <tbody>\n",
       "    <tr>\n",
       "      <th>0</th>\n",
       "      <td>5.0</td>\n",
       "      <td>Pulp Fiction (1994)</td>\n",
       "    </tr>\n",
       "    <tr>\n",
       "      <th>1</th>\n",
       "      <td>3.5</td>\n",
       "      <td>Three Colors: Red (Trois couleurs: Rouge) (1994)</td>\n",
       "    </tr>\n",
       "    <tr>\n",
       "      <th>2</th>\n",
       "      <td>5.0</td>\n",
       "      <td>Three Colors: Blue (Trois couleurs: Bleu) (1993)</td>\n",
       "    </tr>\n",
       "    <tr>\n",
       "      <th>3</th>\n",
       "      <td>5.0</td>\n",
       "      <td>Underground (1995)</td>\n",
       "    </tr>\n",
       "    <tr>\n",
       "      <th>4</th>\n",
       "      <td>3.5</td>\n",
       "      <td>Singin' in the Rain (1952)</td>\n",
       "    </tr>\n",
       "  </tbody>\n",
       "</table>\n",
       "</div>"
      ],
      "text/plain": [
       "   rating                                             title\n",
       "0     5.0                               Pulp Fiction (1994)\n",
       "1     3.5  Three Colors: Red (Trois couleurs: Rouge) (1994)\n",
       "2     5.0  Three Colors: Blue (Trois couleurs: Bleu) (1993)\n",
       "3     5.0                                Underground (1995)\n",
       "4     3.5                        Singin' in the Rain (1952)"
      ]
     },
     "execution_count": 13,
     "metadata": {},
     "output_type": "execute_result"
    }
   ],
   "source": [
    "filtred_ratings.head()"
   ]
  },
  {
   "cell_type": "code",
   "execution_count": 18,
   "id": "00170ea7",
   "metadata": {},
   "outputs": [],
   "source": [
    "answear = filtred_ratings.sort_values(by=['rating', 'title'], ascending=[True, True])"
   ]
  },
  {
   "cell_type": "code",
   "execution_count": 19,
   "id": "b514f503",
   "metadata": {},
   "outputs": [
    {
     "name": "stdout",
     "output_type": "stream",
     "text": [
      "<class 'pandas.core.frame.DataFrame'>\n",
      "Int64Index: 25000095 entries, 1287662 to 10124644\n",
      "Data columns (total 2 columns):\n",
      " #   Column  Dtype  \n",
      "---  ------  -----  \n",
      " 0   rating  float64\n",
      " 1   title   object \n",
      "dtypes: float64(1), object(1)\n",
      "memory usage: 572.2+ MB\n"
     ]
    }
   ],
   "source": [
    "answear.info()"
   ]
  },
  {
   "cell_type": "code",
   "execution_count": 20,
   "id": "e2231332",
   "metadata": {},
   "outputs": [
    {
     "data": {
      "text/html": [
       "<div>\n",
       "<style scoped>\n",
       "    .dataframe tbody tr th:only-of-type {\n",
       "        vertical-align: middle;\n",
       "    }\n",
       "\n",
       "    .dataframe tbody tr th {\n",
       "        vertical-align: top;\n",
       "    }\n",
       "\n",
       "    .dataframe thead th {\n",
       "        text-align: right;\n",
       "    }\n",
       "</style>\n",
       "<table border=\"1\" class=\"dataframe\">\n",
       "  <thead>\n",
       "    <tr style=\"text-align: right;\">\n",
       "      <th></th>\n",
       "      <th>rating</th>\n",
       "      <th>title</th>\n",
       "    </tr>\n",
       "  </thead>\n",
       "  <tbody>\n",
       "    <tr>\n",
       "      <th>3383363</th>\n",
       "      <td>5.0</td>\n",
       "      <td>\"Great Performances\" Cats (1998)</td>\n",
       "    </tr>\n",
       "    <tr>\n",
       "      <th>3465295</th>\n",
       "      <td>5.0</td>\n",
       "      <td>\"Great Performances\" Cats (1998)</td>\n",
       "    </tr>\n",
       "    <tr>\n",
       "      <th>4395396</th>\n",
       "      <td>5.0</td>\n",
       "      <td>\"Great Performances\" Cats (1998)</td>\n",
       "    </tr>\n",
       "    <tr>\n",
       "      <th>5690046</th>\n",
       "      <td>5.0</td>\n",
       "      <td>\"Great Performances\" Cats (1998)</td>\n",
       "    </tr>\n",
       "    <tr>\n",
       "      <th>6163429</th>\n",
       "      <td>5.0</td>\n",
       "      <td>\"Great Performances\" Cats (1998)</td>\n",
       "    </tr>\n",
       "    <tr>\n",
       "      <th>...</th>\n",
       "      <td>...</td>\n",
       "      <td>...</td>\n",
       "    </tr>\n",
       "    <tr>\n",
       "      <th>22983120</th>\n",
       "      <td>5.0</td>\n",
       "      <td>Я худею (2018)</td>\n",
       "    </tr>\n",
       "    <tr>\n",
       "      <th>11142141</th>\n",
       "      <td>5.0</td>\n",
       "      <td>‘Rameau’s Nephew’ by Diderot (Thanx to Dennis ...</td>\n",
       "    </tr>\n",
       "    <tr>\n",
       "      <th>3938227</th>\n",
       "      <td>5.0</td>\n",
       "      <td>チェブラーシカ (2010)</td>\n",
       "    </tr>\n",
       "    <tr>\n",
       "      <th>11614161</th>\n",
       "      <td>5.0</td>\n",
       "      <td>貞子3D (2012)</td>\n",
       "    </tr>\n",
       "    <tr>\n",
       "      <th>10124644</th>\n",
       "      <td>5.0</td>\n",
       "      <td>줄탁동시 (2012)</td>\n",
       "    </tr>\n",
       "  </tbody>\n",
       "</table>\n",
       "<p>3612474 rows × 2 columns</p>\n",
       "</div>"
      ],
      "text/plain": [
       "          rating                                              title\n",
       "3383363      5.0                   \"Great Performances\" Cats (1998)\n",
       "3465295      5.0                   \"Great Performances\" Cats (1998)\n",
       "4395396      5.0                   \"Great Performances\" Cats (1998)\n",
       "5690046      5.0                   \"Great Performances\" Cats (1998)\n",
       "6163429      5.0                   \"Great Performances\" Cats (1998)\n",
       "...          ...                                                ...\n",
       "22983120     5.0                                     Я худею (2018)\n",
       "11142141     5.0  ‘Rameau’s Nephew’ by Diderot (Thanx to Dennis ...\n",
       "3938227      5.0                                     チェブラーシカ (2010)\n",
       "11614161     5.0                                        貞子3D (2012)\n",
       "10124644     5.0                                        줄탁동시 (2012)\n",
       "\n",
       "[3612474 rows x 2 columns]"
      ]
     },
     "execution_count": 20,
     "metadata": {},
     "output_type": "execute_result"
    }
   ],
   "source": [
    "answear[answear['rating'] == 5.0]"
   ]
  },
  {
   "cell_type": "code",
   "execution_count": 21,
   "id": "aed39f49",
   "metadata": {},
   "outputs": [],
   "source": [
    "five = answear.title.value_counts()"
   ]
  },
  {
   "cell_type": "code",
   "execution_count": 24,
   "id": "2df55784",
   "metadata": {},
   "outputs": [
    {
     "data": {
      "text/plain": [
       "Forrest Gump (1994)                 81491\n",
       "Shawshank Redemption, The (1994)    81482\n",
       "Pulp Fiction (1994)                 79672\n",
       "Silence of the Lambs, The (1991)    74127\n",
       "Matrix, The (1999)                  72674\n",
       "                                    ...  \n",
       "Joni (1979)                             1\n",
       "Jordy in Transitland (2016)             1\n",
       "Shadows Run Black (1984)                1\n",
       "João, O Maestro (2017)                  1\n",
       "Zum Teufel mit der Penne (1968)         1\n",
       "Name: title, Length: 58958, dtype: int64"
      ]
     },
     "execution_count": 24,
     "metadata": {},
     "output_type": "execute_result"
    }
   ],
   "source": [
    "five"
   ]
  },
  {
   "cell_type": "markdown",
   "id": "751fc1b4",
   "metadata": {},
   "source": [
    "## Задание 2\n",
    "* По данным файла power.csv посчитайте суммарное потребление стран Прибалтики (Латвия, Литва и Эстония) категорий 4, 12 и 21 за период с 2005 по 2010 года. Не учитывайте в расчетах отрицательные значения quantity."
   ]
  },
  {
   "cell_type": "code",
   "execution_count": 4,
   "id": "24b562a1",
   "metadata": {},
   "outputs": [],
   "source": [
    "power = pd.read_csv('/home/max/jupyter/jupyter_learning/numpy_pandas/ДЗ/DZ_10_files/power.csv')"
   ]
  },
  {
   "cell_type": "code",
   "execution_count": 5,
   "id": "73776052",
   "metadata": {},
   "outputs": [
    {
     "data": {
      "text/html": [
       "<div>\n",
       "<style scoped>\n",
       "    .dataframe tbody tr th:only-of-type {\n",
       "        vertical-align: middle;\n",
       "    }\n",
       "\n",
       "    .dataframe tbody tr th {\n",
       "        vertical-align: top;\n",
       "    }\n",
       "\n",
       "    .dataframe thead th {\n",
       "        text-align: right;\n",
       "    }\n",
       "</style>\n",
       "<table border=\"1\" class=\"dataframe\">\n",
       "  <thead>\n",
       "    <tr style=\"text-align: right;\">\n",
       "      <th></th>\n",
       "      <th>country</th>\n",
       "      <th>year</th>\n",
       "      <th>quantity</th>\n",
       "      <th>category</th>\n",
       "    </tr>\n",
       "  </thead>\n",
       "  <tbody>\n",
       "    <tr>\n",
       "      <th>0</th>\n",
       "      <td>Austria</td>\n",
       "      <td>1996</td>\n",
       "      <td>5.0</td>\n",
       "      <td>1</td>\n",
       "    </tr>\n",
       "    <tr>\n",
       "      <th>1</th>\n",
       "      <td>Austria</td>\n",
       "      <td>1995</td>\n",
       "      <td>17.0</td>\n",
       "      <td>1</td>\n",
       "    </tr>\n",
       "    <tr>\n",
       "      <th>2</th>\n",
       "      <td>Belgium</td>\n",
       "      <td>2014</td>\n",
       "      <td>0.0</td>\n",
       "      <td>1</td>\n",
       "    </tr>\n",
       "    <tr>\n",
       "      <th>3</th>\n",
       "      <td>Belgium</td>\n",
       "      <td>2013</td>\n",
       "      <td>0.0</td>\n",
       "      <td>1</td>\n",
       "    </tr>\n",
       "    <tr>\n",
       "      <th>4</th>\n",
       "      <td>Belgium</td>\n",
       "      <td>2012</td>\n",
       "      <td>35.0</td>\n",
       "      <td>1</td>\n",
       "    </tr>\n",
       "  </tbody>\n",
       "</table>\n",
       "</div>"
      ],
      "text/plain": [
       "   country  year  quantity  category\n",
       "0  Austria  1996       5.0         1\n",
       "1  Austria  1995      17.0         1\n",
       "2  Belgium  2014       0.0         1\n",
       "3  Belgium  2013       0.0         1\n",
       "4  Belgium  2012      35.0         1"
      ]
     },
     "execution_count": 5,
     "metadata": {},
     "output_type": "execute_result"
    }
   ],
   "source": [
    "power.head()"
   ]
  },
  {
   "cell_type": "code",
   "execution_count": 6,
   "id": "c2c77065",
   "metadata": {},
   "outputs": [
    {
     "data": {
      "text/plain": [
       "array(['Austria', 'Czechia', 'Romania', 'Serbia', 'Slovakia', 'Bulgaria',\n",
       "       'Croatia', 'Lithuania', 'Other Asia', 'T.F.Yug.Rep. Macedonia',\n",
       "       'Colombia', 'Australia', 'Ethiopia', 'Serbia and Montenegro',\n",
       "       'Tunisia', 'Georgia', 'Latvia', 'Armenia', 'Russian Federation',\n",
       "       'Bolivia (Plur. State of)', 'Estonia', 'Ethiopia, incl. Eritrea',\n",
       "       'French Guiana', 'Indonesia', 'Liberia', 'Malaysia', 'Mauritania',\n",
       "       'Namibia', 'New Caledonia', 'Slovenia', 'United Rep. of Tanzania',\n",
       "       'Yugoslavia, SFR (former)', 'Zambia', 'Algeria',\n",
       "       'French Polynesia', 'Syrian Arab Republic', 'India', 'Nigeria',\n",
       "       'Somalia', 'Albania', 'Bosnia and Herzegovina',\n",
       "       'Czechoslovakia (former)', 'Equatorial Guinea', 'Saudi Arabia',\n",
       "       'St. Lucia', 'Mongolia', 'Cambodia', 'Gambia',\n",
       "       'Micronesia (Fed. States of)', 'Northern Mariana Islands'],\n",
       "      dtype=object)"
      ]
     },
     "execution_count": 6,
     "metadata": {},
     "output_type": "execute_result"
    }
   ],
   "source": [
    "power[ power['country'].str.contains('ia', case=False) ]['country'].unique()"
   ]
  },
  {
   "cell_type": "code",
   "execution_count": 7,
   "id": "b1b6f264",
   "metadata": {},
   "outputs": [],
   "source": [
    "baltic_states = power[ \n",
    "    (power['country'] == 'Latvia')  | (power['country'] == 'Lithuania') | (power['country'] == 'Estonia')\n",
    "        ]"
   ]
  },
  {
   "cell_type": "code",
   "execution_count": 8,
   "id": "ed6992a2",
   "metadata": {},
   "outputs": [
    {
     "data": {
      "text/plain": [
       "array(['Lithuania', 'Latvia', 'Estonia'], dtype=object)"
      ]
     },
     "execution_count": 8,
     "metadata": {},
     "output_type": "execute_result"
    }
   ],
   "source": [
    "baltic_states['country'].unique()"
   ]
  },
  {
   "cell_type": "code",
   "execution_count": 14,
   "id": "2ed85c04",
   "metadata": {},
   "outputs": [
    {
     "data": {
      "text/html": [
       "<div>\n",
       "<style scoped>\n",
       "    .dataframe tbody tr th:only-of-type {\n",
       "        vertical-align: middle;\n",
       "    }\n",
       "\n",
       "    .dataframe tbody tr th {\n",
       "        vertical-align: top;\n",
       "    }\n",
       "\n",
       "    .dataframe thead th {\n",
       "        text-align: right;\n",
       "    }\n",
       "</style>\n",
       "<table border=\"1\" class=\"dataframe\">\n",
       "  <thead>\n",
       "    <tr style=\"text-align: right;\">\n",
       "      <th></th>\n",
       "      <th>country</th>\n",
       "      <th>year</th>\n",
       "      <th>quantity</th>\n",
       "      <th>category</th>\n",
       "    </tr>\n",
       "  </thead>\n",
       "  <tbody>\n",
       "    <tr>\n",
       "      <th>10617</th>\n",
       "      <td>Estonia</td>\n",
       "      <td>2008</td>\n",
       "      <td>1.0</td>\n",
       "      <td>4</td>\n",
       "    </tr>\n",
       "    <tr>\n",
       "      <th>10618</th>\n",
       "      <td>Estonia</td>\n",
       "      <td>2007</td>\n",
       "      <td>0.0</td>\n",
       "      <td>4</td>\n",
       "    </tr>\n",
       "    <tr>\n",
       "      <th>10619</th>\n",
       "      <td>Estonia</td>\n",
       "      <td>2006</td>\n",
       "      <td>0.0</td>\n",
       "      <td>4</td>\n",
       "    </tr>\n",
       "    <tr>\n",
       "      <th>10620</th>\n",
       "      <td>Estonia</td>\n",
       "      <td>2005</td>\n",
       "      <td>1.0</td>\n",
       "      <td>4</td>\n",
       "    </tr>\n",
       "    <tr>\n",
       "      <th>10621</th>\n",
       "      <td>Estonia</td>\n",
       "      <td>2004</td>\n",
       "      <td>1.0</td>\n",
       "      <td>4</td>\n",
       "    </tr>\n",
       "    <tr>\n",
       "      <th>...</th>\n",
       "      <td>...</td>\n",
       "      <td>...</td>\n",
       "      <td>...</td>\n",
       "      <td>...</td>\n",
       "    </tr>\n",
       "    <tr>\n",
       "      <th>253986</th>\n",
       "      <td>Lithuania</td>\n",
       "      <td>2005</td>\n",
       "      <td>1.0</td>\n",
       "      <td>21</td>\n",
       "    </tr>\n",
       "    <tr>\n",
       "      <th>253987</th>\n",
       "      <td>Lithuania</td>\n",
       "      <td>2004</td>\n",
       "      <td>1.0</td>\n",
       "      <td>21</td>\n",
       "    </tr>\n",
       "    <tr>\n",
       "      <th>253988</th>\n",
       "      <td>Lithuania</td>\n",
       "      <td>2003</td>\n",
       "      <td>0.0</td>\n",
       "      <td>21</td>\n",
       "    </tr>\n",
       "    <tr>\n",
       "      <th>253989</th>\n",
       "      <td>Lithuania</td>\n",
       "      <td>2002</td>\n",
       "      <td>0.0</td>\n",
       "      <td>21</td>\n",
       "    </tr>\n",
       "    <tr>\n",
       "      <th>253990</th>\n",
       "      <td>Lithuania</td>\n",
       "      <td>2001</td>\n",
       "      <td>0.0</td>\n",
       "      <td>21</td>\n",
       "    </tr>\n",
       "  </tbody>\n",
       "</table>\n",
       "<p>1245 rows × 4 columns</p>\n",
       "</div>"
      ],
      "text/plain": [
       "          country  year  quantity  category\n",
       "10617     Estonia  2008       1.0         4\n",
       "10618     Estonia  2007       0.0         4\n",
       "10619     Estonia  2006       0.0         4\n",
       "10620     Estonia  2005       1.0         4\n",
       "10621     Estonia  2004       1.0         4\n",
       "...           ...   ...       ...       ...\n",
       "253986  Lithuania  2005       1.0        21\n",
       "253987  Lithuania  2004       1.0        21\n",
       "253988  Lithuania  2003       0.0        21\n",
       "253989  Lithuania  2002       0.0        21\n",
       "253990  Lithuania  2001       0.0        21\n",
       "\n",
       "[1245 rows x 4 columns]"
      ]
     },
     "execution_count": 14,
     "metadata": {},
     "output_type": "execute_result"
    }
   ],
   "source": [
    "power[ \n",
    "    ((power['country'] == 'Latvia')  | (power['country'] == 'Lithuania') | (power['country'] == 'Estonia')) \n",
    "    &\n",
    "    ((power['category'] == 4)  | (power['category'] == 12) | (power['category'] == 21)) \n",
    "    &\n",
    "    ((power['year'] >= 2005) | (power['year']<= 2010))\n",
    "    &\n",
    "    (power['quantity'] >= 0)\n",
    "        ]"
   ]
  },
  {
   "cell_type": "code",
   "execution_count": 18,
   "id": "c8d16e32",
   "metadata": {},
   "outputs": [
    {
     "data": {
      "text/plain": [
       "219179627208.76712"
      ]
     },
     "execution_count": 18,
     "metadata": {},
     "output_type": "execute_result"
    }
   ],
   "source": [
    "power['quantity'].sum()"
   ]
  },
  {
   "cell_type": "markdown",
   "id": "c80ca97d",
   "metadata": {},
   "source": [
    "## Задине 3\n",
    "* Выберите страницу любого сайта с табличными данными. Импортируйте таблицы в pandas dataframe. Примеры страниц (необязательно брать именно эти):"
   ]
  },
  {
   "cell_type": "code",
   "execution_count": 19,
   "id": "1ae785e9",
   "metadata": {},
   "outputs": [],
   "source": [
    "bitcoin_url = 'https://fortrader.org/cryptocurrencies'"
   ]
  },
  {
   "cell_type": "code",
   "execution_count": 23,
   "id": "ed0ec275",
   "metadata": {},
   "outputs": [],
   "source": [
    "#df = pd.read_html(bitcoin_url, attrs = {'class': 'crypto__table'}, encoding='utf-8')"
   ]
  },
  {
   "cell_type": "code",
   "execution_count": null,
   "id": "2b7f0cab",
   "metadata": {},
   "outputs": [],
   "source": []
  },
  {
   "cell_type": "code",
   "execution_count": 25,
   "id": "91279df0",
   "metadata": {},
   "outputs": [
    {
     "data": {
      "text/html": [
       "<div>\n",
       "<style scoped>\n",
       "    .dataframe tbody tr th:only-of-type {\n",
       "        vertical-align: middle;\n",
       "    }\n",
       "\n",
       "    .dataframe tbody tr th {\n",
       "        vertical-align: top;\n",
       "    }\n",
       "\n",
       "    .dataframe thead th {\n",
       "        text-align: right;\n",
       "    }\n",
       "</style>\n",
       "<table border=\"1\" class=\"dataframe\">\n",
       "  <thead>\n",
       "    <tr style=\"text-align: right;\">\n",
       "      <th></th>\n",
       "      <th>0</th>\n",
       "      <th>1</th>\n",
       "      <th>2</th>\n",
       "    </tr>\n",
       "  </thead>\n",
       "  <tbody>\n",
       "    <tr>\n",
       "      <th>0</th>\n",
       "      <td>BTC/USDБиткоин / Доллар США</td>\n",
       "      <td>44838.00000</td>\n",
       "      <td>+6.37%</td>\n",
       "    </tr>\n",
       "    <tr>\n",
       "      <th>1</th>\n",
       "      <td>DSH/USDDash / Доллар США</td>\n",
       "      <td>128.04000</td>\n",
       "      <td>-1.48%</td>\n",
       "    </tr>\n",
       "    <tr>\n",
       "      <th>2</th>\n",
       "      <td>XRP/USDRipple / Доллар США</td>\n",
       "      <td>0.83831</td>\n",
       "      <td>-0.56%</td>\n",
       "    </tr>\n",
       "    <tr>\n",
       "      <th>3</th>\n",
       "      <td>ETH/USDЭфириум / Доллар США</td>\n",
       "      <td>3170.96000</td>\n",
       "      <td>+7.66%</td>\n",
       "    </tr>\n",
       "    <tr>\n",
       "      <th>4</th>\n",
       "      <td>NEO/USDNEO / Доллар США</td>\n",
       "      <td>24.75400</td>\n",
       "      <td>+1.47%</td>\n",
       "    </tr>\n",
       "    <tr>\n",
       "      <th>5</th>\n",
       "      <td>EOS/USDEOS / Доллар США</td>\n",
       "      <td>2.52620</td>\n",
       "      <td>-0.57%</td>\n",
       "    </tr>\n",
       "    <tr>\n",
       "      <th>6</th>\n",
       "      <td>XMR/USDMonero / Доллар США</td>\n",
       "      <td>202.25000</td>\n",
       "      <td>-0.82%</td>\n",
       "    </tr>\n",
       "    <tr>\n",
       "      <th>7</th>\n",
       "      <td>IOTA/USDIOTA / Доллар США</td>\n",
       "      <td>0.80783</td>\n",
       "      <td>+0.35%</td>\n",
       "    </tr>\n",
       "    <tr>\n",
       "      <th>8</th>\n",
       "      <td>LTC/USDLitecoin / Dollar USA</td>\n",
       "      <td>126.45000</td>\n",
       "      <td>+0.01%</td>\n",
       "    </tr>\n",
       "    <tr>\n",
       "      <th>9</th>\n",
       "      <td>ETC/USDEthereum Classic / US Dollar</td>\n",
       "      <td>48.29300</td>\n",
       "      <td>-0.52%</td>\n",
       "    </tr>\n",
       "    <tr>\n",
       "      <th>10</th>\n",
       "      <td>BCH/USDBitcoin Cash / Доллар США</td>\n",
       "      <td>361.85000</td>\n",
       "      <td>-0.87%</td>\n",
       "    </tr>\n",
       "    <tr>\n",
       "      <th>11</th>\n",
       "      <td>moex</td>\n",
       "      <td>95.51000</td>\n",
       "      <td>0.00%</td>\n",
       "    </tr>\n",
       "  </tbody>\n",
       "</table>\n",
       "</div>"
      ],
      "text/plain": [
       "                                      0            1       2\n",
       "0           BTC/USDБиткоин / Доллар США  44838.00000  +6.37%\n",
       "1              DSH/USDDash / Доллар США    128.04000  -1.48%\n",
       "2            XRP/USDRipple / Доллар США      0.83831  -0.56%\n",
       "3           ETH/USDЭфириум / Доллар США   3170.96000  +7.66%\n",
       "4               NEO/USDNEO / Доллар США     24.75400  +1.47%\n",
       "5               EOS/USDEOS / Доллар США      2.52620  -0.57%\n",
       "6            XMR/USDMonero / Доллар США    202.25000  -0.82%\n",
       "7             IOTA/USDIOTA / Доллар США      0.80783  +0.35%\n",
       "8          LTC/USDLitecoin / Dollar USA    126.45000  +0.01%\n",
       "9   ETC/USDEthereum Classic / US Dollar     48.29300  -0.52%\n",
       "10     BCH/USDBitcoin Cash / Доллар США    361.85000  -0.87%\n",
       "11                                 moex     95.51000   0.00%"
      ]
     },
     "execution_count": 25,
     "metadata": {},
     "output_type": "execute_result"
    }
   ],
   "source": [
    "df = pd.read_html('https://fortrader.org/cryptocurrencies')[0]\n",
    "df"
   ]
  }
 ],
 "metadata": {
  "kernelspec": {
   "display_name": "Python 3 (ipykernel)",
   "language": "python",
   "name": "python3"
  },
  "language_info": {
   "codemirror_mode": {
    "name": "ipython",
    "version": 3
   },
   "file_extension": ".py",
   "mimetype": "text/x-python",
   "name": "python",
   "nbconvert_exporter": "python",
   "pygments_lexer": "ipython3",
   "version": "3.8.10"
  }
 },
 "nbformat": 4,
 "nbformat_minor": 5
}
