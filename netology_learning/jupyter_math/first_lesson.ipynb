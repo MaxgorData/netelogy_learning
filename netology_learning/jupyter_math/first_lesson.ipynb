{
 "cells": [
  {
   "cell_type": "code",
   "execution_count": 7,
   "id": "44af29db",
   "metadata": {},
   "outputs": [],
   "source": [
    "import numpy as np\n",
    "import sympy as sym"
   ]
  },
  {
   "cell_type": "markdown",
   "id": "3fc8a7ab",
   "metadata": {},
   "source": [
    "Уровень 0:\n",
    "Представим фильмы в виде бинарных векторов (numpy array) используя следующие признаки:\n",
    "\n",
    "[Комедия, Боевик, Исторический, Бред Питт, Бенедикт Камбербэтч, Квентин Тарантино]\n",
    "\n",
    "Игра в имитацию\n",
    "\n",
    "Ярость\n",
    "\n",
    "12 лет рабства\n",
    "\n",
    "Однажды в Голливуде\n",
    "\n",
    "film_1 = np.array([0,0,0,0,1,0])      # Игра в имитацию\n",
    "\n",
    "film_2 = np.array([0,1,0,1,0,0])      # Ярость\n",
    "\n",
    "film_3 = np.array([0,0,1,1,1,0])      # 12 лет рабства\n",
    "\n",
    "film_4 = np.array([1,0,0,1,0,1])      # Однажды в Голливуде"
   ]
  },
  {
   "cell_type": "code",
   "execution_count": 2,
   "id": "fac67d3f",
   "metadata": {},
   "outputs": [],
   "source": [
    "film_1 = np.array([0,0,0,0,1,0])\n",
    "film_2 = np.array([0,1,0,1,0,0])\n",
    "film_3 = np.array([0,0,1,1,1,0])  \n",
    "film_4 = np.array([1,0,0,1,0,1]) "
   ]
  },
  {
   "cell_type": "code",
   "execution_count": 3,
   "id": "6169df27",
   "metadata": {},
   "outputs": [
    {
     "data": {
      "text/plain": [
       "array([0, 0, 0, 0, 1, 0])"
      ]
     },
     "execution_count": 3,
     "metadata": {},
     "output_type": "execute_result"
    }
   ],
   "source": [
    "film_1"
   ]
  },
  {
   "cell_type": "markdown",
   "id": "8e43a8bf",
   "metadata": {},
   "source": [
    "## Задание 1\n",
    "* Найти угол между векторами-фильмами \"Ярость\" и \"12 лет рабства\". Результатом будет являться косинусная мера, которую можно использовать для определения похожести векторов."
   ]
  },
  {
   "cell_type": "code",
   "execution_count": 4,
   "id": "ef17831c",
   "metadata": {},
   "outputs": [
    {
     "data": {
      "text/plain": [
       "65.90515744788931"
      ]
     },
     "execution_count": 4,
     "metadata": {},
     "output_type": "execute_result"
    }
   ],
   "source": [
    "dot_pr = film_2.dot(film_3)\n",
    "norms = np.linalg.norm(film_2) * np.linalg.norm(film_3)\n",
    "np.rad2deg(np.arccos(dot_pr / norms))"
   ]
  },
  {
   "cell_type": "markdown",
   "id": "79ac7d22",
   "metadata": {},
   "source": [
    "## Задание 2 \n",
    "* Вычислить с помощью Python значение первой производной для функции 3*x*(x**2+x)**3 в точке x=1"
   ]
  },
  {
   "cell_type": "code",
   "execution_count": 8,
   "id": "230fd046",
   "metadata": {},
   "outputs": [],
   "source": [
    "x = sym.Symbol('x')"
   ]
  },
  {
   "cell_type": "code",
   "execution_count": 9,
   "id": "90a00236",
   "metadata": {},
   "outputs": [],
   "source": [
    "res = sym.diff(3*x*(x**2+x)**3)"
   ]
  },
  {
   "cell_type": "code",
   "execution_count": 10,
   "id": "5931d632",
   "metadata": {},
   "outputs": [
    {
     "data": {
      "text/latex": [
       "$\\displaystyle 132$"
      ],
      "text/plain": [
       "132"
      ]
     },
     "execution_count": 10,
     "metadata": {},
     "output_type": "execute_result"
    }
   ],
   "source": [
    "res.subs(x,1)"
   ]
  },
  {
   "cell_type": "markdown",
   "id": "a5e6d5f3",
   "metadata": {},
   "source": [
    "## Задание 3\n",
    "* Объединить векторы фильмов в матрицу, где каждый вектор является строкой матрицы. Умножьте вектор [1,2,3,4] на полученную матрицу"
   ]
  },
  {
   "cell_type": "code",
   "execution_count": 11,
   "id": "5d5984e5",
   "metadata": {},
   "outputs": [],
   "source": [
    "vector = np.array([1,2,3,4])"
   ]
  },
  {
   "cell_type": "code",
   "execution_count": 13,
   "id": "66787cda",
   "metadata": {},
   "outputs": [],
   "source": [
    "matrix = np.array([film_1, film_2, film_3, film_4])"
   ]
  },
  {
   "cell_type": "code",
   "execution_count": 14,
   "id": "e3497d09",
   "metadata": {},
   "outputs": [
    {
     "data": {
      "text/plain": [
       "array([[0, 0, 0, 0, 1, 0],\n",
       "       [0, 1, 0, 1, 0, 0],\n",
       "       [0, 0, 1, 1, 1, 0],\n",
       "       [1, 0, 0, 1, 0, 1]])"
      ]
     },
     "execution_count": 14,
     "metadata": {},
     "output_type": "execute_result"
    }
   ],
   "source": [
    "matrix"
   ]
  },
  {
   "cell_type": "code",
   "execution_count": 15,
   "id": "51b08fa3",
   "metadata": {},
   "outputs": [
    {
     "data": {
      "text/plain": [
       "array([4, 2, 3, 9, 4, 4])"
      ]
     },
     "execution_count": 15,
     "metadata": {},
     "output_type": "execute_result"
    }
   ],
   "source": [
    "vector @ matrix"
   ]
  }
 ],
 "metadata": {
  "kernelspec": {
   "display_name": "Python 3 (ipykernel)",
   "language": "python",
   "name": "python3"
  },
  "language_info": {
   "codemirror_mode": {
    "name": "ipython",
    "version": 3
   },
   "file_extension": ".py",
   "mimetype": "text/x-python",
   "name": "python",
   "nbconvert_exporter": "python",
   "pygments_lexer": "ipython3",
   "version": "3.8.10"
  }
 },
 "nbformat": 4,
 "nbformat_minor": 5
}
